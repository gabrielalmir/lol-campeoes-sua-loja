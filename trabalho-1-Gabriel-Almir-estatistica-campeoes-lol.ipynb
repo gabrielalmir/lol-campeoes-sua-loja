{
 "cells": [
  {
   "cell_type": "markdown",
   "id": "cf0fc69c",
   "metadata": {},
   "source": [
    "# Estatistica de Campeões de League of Legends\n",
    "\n",
    "Trabalho 1 de Mineração de Dados para a FATEC de Itapira - Curso de Desenvolvimento de Sistemas Multiplataforma.\n",
    "Desenvolvido por: Gabriel Almir Pereira Ribeiro."
   ]
  },
  {
   "cell_type": "code",
   "execution_count": 22,
   "id": "91a4a60b",
   "metadata": {},
   "outputs": [],
   "source": [
    "import pandas as pd\n",
    "df = pd.read_csv(\"champions.csv\", sep=\";\", dtype={\"jogos_jogados\": str, \"ouro\": str, \"taxa_vitoria\": str, \"taxa_escolha\": str, \"taxa_banimento\": str})"
   ]
  },
  {
   "cell_type": "markdown",
   "id": "e20bc36a",
   "metadata": {},
   "source": [
    "Primeiro vamos realizar a análise da estrutura dos dados atualmente."
   ]
  },
  {
   "cell_type": "code",
   "execution_count": 23,
   "id": "29b45870",
   "metadata": {},
   "outputs": [
    {
     "name": "stdout",
     "output_type": "stream",
     "text": [
      "Primeiras linhas do dataset\n",
      "           nome jogos_jogados     ama taxa_vitoria taxa_escolha  \\\n",
      "0  Miss Fortune        18.164  2.19:1       48.79%       27.64%   \n",
      "1           Lux        17.346  2.37:1       48.58%        26.4%   \n",
      "2          Kayn        12.893  1.82:1       46.89%       19.62%   \n",
      "3       Caitlyn        12.526  1.97:1       47.28%       19.06%   \n",
      "4       Morgana        12.418  2.50:1       49.65%        18.9%   \n",
      "\n",
      "  taxa_banimento      cs    ouro region  tier  \n",
      "0         13.87%  154.79  12.410     br  iron  \n",
      "1         38.62%   91.24  10.420     br  iron  \n",
      "2          17.1%  156.88  11.846     br  iron  \n",
      "3         37.02%  160.68  11.902     br  iron  \n",
      "4         32.35%   66.49   9.927     br  iron  \n"
     ]
    }
   ],
   "source": [
    "print(\"Primeiras linhas do dataset\")\n",
    "print(df.head())"
   ]
  },
  {
   "cell_type": "code",
   "execution_count": 24,
   "id": "22dd74a8",
   "metadata": {},
   "outputs": [
    {
     "name": "stdout",
     "output_type": "stream",
     "text": [
      "Formato do dataset (linhas, colunas)\n",
      "(1712, 10)\n"
     ]
    }
   ],
   "source": [
    "print(\"Formato do dataset (linhas, colunas)\")\n",
    "print(df.shape)"
   ]
  },
  {
   "cell_type": "code",
   "execution_count": 25,
   "id": "e1ac8cf9",
   "metadata": {},
   "outputs": [
    {
     "name": "stdout",
     "output_type": "stream",
     "text": [
      "Resumo estatísticos\n",
      "                nome jogos_jogados     ama taxa_vitoria taxa_escolha  \\\n",
      "count           1710          1705    1712         1712         1705   \n",
      "unique           171          1465     250          868          920   \n",
      "top     Miss Fortune            11  2.30:1          50%        3.59%   \n",
      "freq              10             8      24           20            8   \n",
      "mean             NaN           NaN     NaN          NaN          NaN   \n",
      "std              NaN           NaN     NaN          NaN          NaN   \n",
      "min              NaN           NaN     NaN          NaN          NaN   \n",
      "25%              NaN           NaN     NaN          NaN          NaN   \n",
      "50%              NaN           NaN     NaN          NaN          NaN   \n",
      "75%              NaN           NaN     NaN          NaN          NaN   \n",
      "max              NaN           NaN     NaN          NaN          NaN   \n",
      "\n",
      "       taxa_banimento           cs    ouro region      tier  \n",
      "count            1712  1705.000000    1705   1712      1712  \n",
      "unique            804          NaN    1411      1        10  \n",
      "top             0.28%          NaN  12.200     br  platinum  \n",
      "freq               15          NaN       5   1712       172  \n",
      "mean              NaN   155.497384     NaN    NaN       NaN  \n",
      "std               NaN    55.659304     NaN    NaN       NaN  \n",
      "min               NaN    11.840000     NaN    NaN       NaN  \n",
      "25%               NaN   145.150000     NaN    NaN       NaN  \n",
      "50%               NaN   173.640000     NaN    NaN       NaN  \n",
      "75%               NaN   191.930000     NaN    NaN       NaN  \n",
      "max               NaN   242.520000     NaN    NaN       NaN  \n"
     ]
    }
   ],
   "source": [
    "print(\"Resumo estatísticos\")\n",
    "print(df.describe(include='all'))"
   ]
  },
  {
   "cell_type": "code",
   "execution_count": 26,
   "id": "7996ebdc",
   "metadata": {},
   "outputs": [
    {
     "name": "stdout",
     "output_type": "stream",
     "text": [
      "\n",
      "Verificação de valores ausentes:\n",
      "nome              2\n",
      "jogos_jogados     7\n",
      "ama               0\n",
      "taxa_vitoria      0\n",
      "taxa_escolha      7\n",
      "taxa_banimento    0\n",
      "cs                7\n",
      "ouro              7\n",
      "region            0\n",
      "tier              0\n",
      "dtype: int64\n"
     ]
    }
   ],
   "source": [
    "print(\"\\nVerificação de valores ausentes:\")\n",
    "print(df.isnull().sum())"
   ]
  },
  {
   "cell_type": "code",
   "execution_count": 27,
   "id": "22584adc",
   "metadata": {},
   "outputs": [
    {
     "name": "stdout",
     "output_type": "stream",
     "text": [
      "\n",
      "Verificação de registros duplicados:\n",
      "0\n"
     ]
    }
   ],
   "source": [
    "print(\"\\nVerificação de registros duplicados:\")\n",
    "print(df.duplicated().sum())"
   ]
  },
  {
   "cell_type": "markdown",
   "id": "cafae412",
   "metadata": {},
   "source": [
    "# Limpeza de Dados\n",
    "\n",
    "Vamos realizar as principais limpezas dos dados."
   ]
  },
  {
   "cell_type": "code",
   "execution_count": 28,
   "id": "55044c15",
   "metadata": {},
   "outputs": [
    {
     "name": "stdout",
     "output_type": "stream",
     "text": [
      "nome               object\n",
      "jogos_jogados      object\n",
      "ama                object\n",
      "taxa_vitoria       object\n",
      "taxa_escolha       object\n",
      "taxa_banimento     object\n",
      "cs                float64\n",
      "ouro               object\n",
      "region             object\n",
      "tier               object\n",
      "dtype: object\n",
      "           nome jogos_jogados     ama taxa_vitoria taxa_escolha  \\\n",
      "0  Miss Fortune        18.164  2.19:1       48.79%       27.64%   \n",
      "1           Lux        17.346  2.37:1       48.58%        26.4%   \n",
      "2          Kayn        12.893  1.82:1       46.89%       19.62%   \n",
      "3       Caitlyn        12.526  1.97:1       47.28%       19.06%   \n",
      "4       Morgana        12.418  2.50:1       49.65%        18.9%   \n",
      "\n",
      "  taxa_banimento      cs    ouro region  tier  \n",
      "0         13.87%  154.79  12.410     br  iron  \n",
      "1         38.62%   91.24  10.420     br  iron  \n",
      "2          17.1%  156.88  11.846     br  iron  \n",
      "3         37.02%  160.68  11.902     br  iron  \n",
      "4         32.35%   66.49   9.927     br  iron  \n"
     ]
    }
   ],
   "source": [
    "print(df.dtypes)  # conferindo os tipos\n",
    "print(df.head())"
   ]
  },
  {
   "cell_type": "code",
   "execution_count": 29,
   "id": "7919d4c0",
   "metadata": {},
   "outputs": [],
   "source": [
    "df['jogos_jogados'] = pd.to_numeric(df['jogos_jogados'].str.replace('.', ''), errors='coerce')\n",
    "df['ouro'] = pd.to_numeric(df['ouro'].str.replace('.', ''), errors='coerce')\n",
    "df['taxa_vitoria'] = pd.to_numeric(df['taxa_vitoria'].str.replace('%', ''), errors='coerce')\n",
    "df['taxa_escolha'] = pd.to_numeric(df['taxa_escolha'].str.replace('%', ''), errors='coerce')\n",
    "df['taxa_banimento'] = pd.to_numeric(df['taxa_banimento'].str.replace('%', ''), errors='coerce')"
   ]
  },
  {
   "cell_type": "code",
   "execution_count": 31,
   "id": "dbd9b343",
   "metadata": {},
   "outputs": [],
   "source": [
    "# Remover duplicados, não necessário nesse caso\n",
    "df = df.drop_duplicates()\n",
    "\n",
    "# preencher valores nulos com a mediana\n",
    "df = df.fillna(df.median(numeric_only=True))"
   ]
  },
  {
   "cell_type": "markdown",
   "id": "1daac209",
   "metadata": {},
   "source": [
    "# Análise de Limpeza"
   ]
  },
  {
   "cell_type": "code",
   "execution_count": 33,
   "id": "cb6fe876",
   "metadata": {},
   "outputs": [
    {
     "name": "stdout",
     "output_type": "stream",
     "text": [
      "Dataset após limpeza:\n",
      "           nome  jogos_jogados     ama  taxa_vitoria  taxa_escolha  \\\n",
      "0  Miss Fortune        18164.0  2.19:1         48.79         27.64   \n",
      "1           Lux        17346.0  2.37:1         48.58         26.40   \n",
      "2          Kayn        12893.0  1.82:1         46.89         19.62   \n",
      "3       Caitlyn        12526.0  1.97:1         47.28         19.06   \n",
      "4       Morgana        12418.0  2.50:1         49.65         18.90   \n",
      "\n",
      "   taxa_banimento      cs     ouro region  tier  \n",
      "0           13.87  154.79  12410.0     br  iron  \n",
      "1           38.62   91.24  10420.0     br  iron  \n",
      "2           17.10  156.88  11846.0     br  iron  \n",
      "3           37.02  160.68  11902.0     br  iron  \n",
      "4           32.35   66.49   9927.0     br  iron  \n",
      "Resumo estatístico após limpeza:\n",
      "       jogos_jogados  taxa_vitoria  taxa_escolha  taxa_banimento           cs  \\\n",
      "count    1712.000000   1712.000000   1712.000000     1712.000000  1712.000000   \n",
      "mean     5988.477220     49.341688      5.917640        5.158896   155.571565   \n",
      "std      7544.807708      6.063953      4.271441        8.199543    55.557403   \n",
      "min         1.000000      0.000000      0.250000        0.010000    11.840000   \n",
      "25%       821.750000     47.987500      2.820000        0.640000   145.197500   \n",
      "50%      3432.000000     49.975000      4.600000        1.780000   173.640000   \n",
      "75%      8163.750000     51.642500      8.042500        5.792500   191.850000   \n",
      "max     52102.000000     80.000000     27.640000       58.290000   242.520000   \n",
      "\n",
      "               ouro  \n",
      "count   1712.000000  \n",
      "mean   11541.338201  \n",
      "std     1469.797219  \n",
      "min     5676.000000  \n",
      "25%    10935.750000  \n",
      "50%    11926.000000  \n",
      "75%    12578.000000  \n",
      "max    14073.000000  \n"
     ]
    }
   ],
   "source": [
    "print(\"Dataset após limpeza:\")\n",
    "print(df.head())\n",
    "\n",
    "print(\"Resumo estatístico após limpeza:\")\n",
    "print(df.describe())"
   ]
  },
  {
   "cell_type": "code",
   "execution_count": 35,
   "id": "5ff3e9cf",
   "metadata": {},
   "outputs": [
    {
     "name": "stdout",
     "output_type": "stream",
     "text": [
      "Média da taxa de vitória por região/tier:\n",
      "region  tier       \n",
      "br      bronze         48.717135\n",
      "        challenger     46.822807\n",
      "        diamond        50.484737\n",
      "        emerald        50.444302\n",
      "        gold           50.032047\n",
      "        grandmaster    49.507076\n",
      "        iron           46.470058\n",
      "        master         51.405146\n",
      "        platinum       50.202849\n",
      "        silver         49.319240\n",
      "Name: taxa_vitoria, dtype: float64\n"
     ]
    }
   ],
   "source": [
    "print(\"Média da taxa de vitória por região/tier:\")\n",
    "print(df.groupby(['region','tier'])['taxa_vitoria'].mean())"
   ]
  },
  {
   "cell_type": "code",
   "execution_count": null,
   "id": "c5fbc7d4",
   "metadata": {
    "vscode": {
     "languageId": "ruby"
    }
   },
   "outputs": [
    {
     "name": "stdout",
     "output_type": "stream",
     "text": [
      "tier          bronze  challenger  diamond  emerald   gold  grandmaster   iron  \\\n",
      "nome                                                                            \n",
      "Miss Fortune   51.47       58.33    51.01    51.44  51.79        45.16  48.79   \n",
      "Lux            51.31       51.43    51.42    51.42  51.54        51.79  48.58   \n",
      "Caitlyn        49.00       67.74    49.37    50.36  49.96        52.24  47.28   \n",
      "Morgana        51.96       52.94    49.69    52.77  52.71        55.07  49.65   \n",
      "Kayn           49.93       56.07    49.19    50.77  50.50        41.88  46.89   \n",
      "Ahri           48.67       50.00    50.34    49.78  49.99        51.15  46.56   \n",
      "\n",
      "tier          master  platinum  silver  \n",
      "nome                                    \n",
      "Miss Fortune   50.46     50.81   51.48  \n",
      "Lux            49.21     51.69   51.61  \n",
      "Caitlyn        50.51     50.06   49.35  \n",
      "Morgana        52.32     52.52   52.91  \n",
      "Kayn           50.28     50.08   49.92  \n",
      "Ahri           53.43     49.88   48.65  \n",
      "Tendência de vitória por elo para campeões populares:\n",
      "tier          bronze  challenger  diamond  emerald  gold  grandmaster  iron  \\\n",
      "nome                                                                          \n",
      "Miss Fortune     0.0        6.86    -7.32     0.43  0.35        -6.63  3.63   \n",
      "Lux              0.0        0.12    -0.01     0.00  0.12         0.25 -3.21   \n",
      "Caitlyn          0.0       18.74   -18.37     0.99 -0.40         2.28 -4.96   \n",
      "Morgana          0.0        0.98    -3.25     3.08 -0.06         2.36 -5.42   \n",
      "Kayn             0.0        6.14    -6.88     1.58 -0.27        -8.62  5.01   \n",
      "Ahri             0.0        1.33     0.34    -0.56  0.21         1.16 -4.59   \n",
      "\n",
      "tier          master  platinum  silver  \n",
      "nome                                    \n",
      "Miss Fortune    1.67      0.35    0.67  \n",
      "Lux             0.63      2.48   -0.08  \n",
      "Caitlyn         3.23     -0.45   -0.71  \n",
      "Morgana         2.67      0.20    0.39  \n",
      "Kayn            3.39     -0.20   -0.16  \n",
      "Ahri            6.87     -3.55   -1.23  \n"
     ]
    }
   ],
   "source": [
    "# Calculando a média da taxa de vitória por campeão e elo\n",
    "performance_por_elo = df.groupby(['nome', 'tier'])['taxa_vitoria'].mean().unstack()\n",
    "\n",
    "# Selecionando alguns campeões populares para visualização\n",
    "campeoes_populares = ['Miss Fortune', 'Lux', 'Caitlyn', 'Morgana', 'Kayn', 'Ahri']\n",
    "performance_populares = performance_por_elo.loc[campeoes_populares]\n",
    "\n",
    "print(performance_populares)\n",
    "\n",
    "# Calculando a tendência de vitória por elo para cada campeão popular\n",
    "tendencia_populares = performance_populares.apply(lambda x: x.diff().fillna(0), axis=1)\n",
    "\n",
    "print(\"Tendência de vitória por elo para campeões populares:\")\n",
    "print(tendencia_populares)"
   ]
  }
 ],
 "metadata": {
  "kernelspec": {
   "display_name": "lol-campeoes-sua-loja",
   "language": "python",
   "name": "python3"
  },
  "language_info": {
   "codemirror_mode": {
    "name": "ipython",
    "version": 3
   },
   "file_extension": ".py",
   "mimetype": "text/x-python",
   "name": "python",
   "nbconvert_exporter": "python",
   "pygments_lexer": "ipython3",
   "version": "3.13.5"
  }
 },
 "nbformat": 4,
 "nbformat_minor": 5
}
