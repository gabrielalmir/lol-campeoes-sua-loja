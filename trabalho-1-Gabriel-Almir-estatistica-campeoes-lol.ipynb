{
 "cells": [
  {
   "cell_type": "markdown",
   "id": "cf0fc69c",
   "metadata": {},
   "source": [
    "# Estatistica de Campeões de League of Legends\n",
    "\n",
    "Trabalho 1 de Mineração de Dados para a FATEC de Itapira - Curso de Desenvolvimento de Sistemas Multiplataforma.\n",
    "Desenvolvido por: Gabriel Almir Pereira Ribeiro."
   ]
  },
  {
   "cell_type": "code",
   "execution_count": 1,
   "id": "91a4a60b",
   "metadata": {},
   "outputs": [],
   "source": [
    "import pandas as pd\n",
    "df = pd.read_csv(\"champions.csv\", sep=\";\", dtype={\"jogos_jogados\": str, \"ouro\": str, \"taxa_vitoria\": str, \"taxa_escolha\": str, \"taxa_banimento\": str})"
   ]
  },
  {
   "cell_type": "markdown",
   "id": "e20bc36a",
   "metadata": {},
   "source": [
    "Primeiro vamos realizar a análise da estrutura dos dados atualmente."
   ]
  },
  {
   "cell_type": "code",
   "execution_count": 2,
   "id": "29b45870",
   "metadata": {},
   "outputs": [
    {
     "name": "stdout",
     "output_type": "stream",
     "text": [
      "Primeiras linhas do dataset\n",
      "           nome jogos_jogados     ama taxa_vitoria taxa_escolha  \\\n",
      "0  Miss Fortune        18.164  2.19:1       48.79%       27.64%   \n",
      "1           Lux        17.346  2.37:1       48.58%        26.4%   \n",
      "2          Kayn        12.893  1.82:1       46.89%       19.62%   \n",
      "3       Caitlyn        12.526  1.97:1       47.28%       19.06%   \n",
      "4       Morgana        12.418  2.50:1       49.65%        18.9%   \n",
      "\n",
      "  taxa_banimento      cs    ouro region  tier  \n",
      "0         13.87%  154.79  12.410     br  iron  \n",
      "1         38.62%   91.24  10.420     br  iron  \n",
      "2          17.1%  156.88  11.846     br  iron  \n",
      "3         37.02%  160.68  11.902     br  iron  \n",
      "4         32.35%   66.49   9.927     br  iron  \n"
     ]
    }
   ],
   "source": [
    "print(\"Primeiras linhas do dataset\")\n",
    "print(df.head())"
   ]
  },
  {
   "cell_type": "code",
   "execution_count": 3,
   "id": "22dd74a8",
   "metadata": {},
   "outputs": [
    {
     "name": "stdout",
     "output_type": "stream",
     "text": [
      "Formato do dataset (linhas, colunas)\n",
      "(1712, 10)\n"
     ]
    }
   ],
   "source": [
    "print(\"Formato do dataset (linhas, colunas)\")\n",
    "print(df.shape)"
   ]
  },
  {
   "cell_type": "code",
   "execution_count": 4,
   "id": "e1ac8cf9",
   "metadata": {},
   "outputs": [
    {
     "name": "stdout",
     "output_type": "stream",
     "text": [
      "Resumo estatísticos\n",
      "                nome jogos_jogados     ama taxa_vitoria taxa_escolha  \\\n",
      "count           1710          1705    1712         1712         1705   \n",
      "unique           171          1465     250          868          920   \n",
      "top     Miss Fortune            11  2.30:1          50%        3.59%   \n",
      "freq              10             8      24           20            8   \n",
      "mean             NaN           NaN     NaN          NaN          NaN   \n",
      "std              NaN           NaN     NaN          NaN          NaN   \n",
      "min              NaN           NaN     NaN          NaN          NaN   \n",
      "25%              NaN           NaN     NaN          NaN          NaN   \n",
      "50%              NaN           NaN     NaN          NaN          NaN   \n",
      "75%              NaN           NaN     NaN          NaN          NaN   \n",
      "max              NaN           NaN     NaN          NaN          NaN   \n",
      "\n",
      "       taxa_banimento           cs    ouro region      tier  \n",
      "count            1712  1705.000000    1705   1712      1712  \n",
      "unique            804          NaN    1411      1        10  \n",
      "top             0.28%          NaN  12.200     br  platinum  \n",
      "freq               15          NaN       5   1712       172  \n",
      "mean              NaN   155.497384     NaN    NaN       NaN  \n",
      "std               NaN    55.659304     NaN    NaN       NaN  \n",
      "min               NaN    11.840000     NaN    NaN       NaN  \n",
      "25%               NaN   145.150000     NaN    NaN       NaN  \n",
      "50%               NaN   173.640000     NaN    NaN       NaN  \n",
      "75%               NaN   191.930000     NaN    NaN       NaN  \n",
      "max               NaN   242.520000     NaN    NaN       NaN  \n"
     ]
    }
   ],
   "source": [
    "print(\"Resumo estatísticos\")\n",
    "print(df.describe(include='all'))"
   ]
  },
  {
   "cell_type": "code",
   "execution_count": 5,
   "id": "7996ebdc",
   "metadata": {},
   "outputs": [
    {
     "name": "stdout",
     "output_type": "stream",
     "text": [
      "\n",
      "Verificação de valores ausentes:\n",
      "nome              2\n",
      "jogos_jogados     7\n",
      "ama               0\n",
      "taxa_vitoria      0\n",
      "taxa_escolha      7\n",
      "taxa_banimento    0\n",
      "cs                7\n",
      "ouro              7\n",
      "region            0\n",
      "tier              0\n",
      "dtype: int64\n"
     ]
    }
   ],
   "source": [
    "print(\"\\nVerificação de valores ausentes:\")\n",
    "print(df.isnull().sum())"
   ]
  },
  {
   "cell_type": "code",
   "execution_count": 6,
   "id": "22584adc",
   "metadata": {},
   "outputs": [
    {
     "name": "stdout",
     "output_type": "stream",
     "text": [
      "\n",
      "Verificação de registros duplicados:\n",
      "0\n"
     ]
    }
   ],
   "source": [
    "print(\"\\nVerificação de registros duplicados:\")\n",
    "print(df.duplicated().sum())"
   ]
  },
  {
   "cell_type": "markdown",
   "id": "cafae412",
   "metadata": {},
   "source": [
    "# Limpeza de Dados\n",
    "\n",
    "Vamos realizar as principais limpezas dos dados."
   ]
  },
  {
   "cell_type": "code",
   "execution_count": 7,
   "id": "55044c15",
   "metadata": {},
   "outputs": [
    {
     "name": "stdout",
     "output_type": "stream",
     "text": [
      "nome               object\n",
      "jogos_jogados      object\n",
      "ama                object\n",
      "taxa_vitoria       object\n",
      "taxa_escolha       object\n",
      "taxa_banimento     object\n",
      "cs                float64\n",
      "ouro               object\n",
      "region             object\n",
      "tier               object\n",
      "dtype: object\n",
      "           nome jogos_jogados     ama taxa_vitoria taxa_escolha  \\\n",
      "0  Miss Fortune        18.164  2.19:1       48.79%       27.64%   \n",
      "1           Lux        17.346  2.37:1       48.58%        26.4%   \n",
      "2          Kayn        12.893  1.82:1       46.89%       19.62%   \n",
      "3       Caitlyn        12.526  1.97:1       47.28%       19.06%   \n",
      "4       Morgana        12.418  2.50:1       49.65%        18.9%   \n",
      "\n",
      "  taxa_banimento      cs    ouro region  tier  \n",
      "0         13.87%  154.79  12.410     br  iron  \n",
      "1         38.62%   91.24  10.420     br  iron  \n",
      "2          17.1%  156.88  11.846     br  iron  \n",
      "3         37.02%  160.68  11.902     br  iron  \n",
      "4         32.35%   66.49   9.927     br  iron  \n"
     ]
    }
   ],
   "source": [
    "print(df.dtypes)  # conferindo os tipos\n",
    "print(df.head())"
   ]
  },
  {
   "cell_type": "code",
   "execution_count": 8,
   "id": "7919d4c0",
   "metadata": {},
   "outputs": [],
   "source": [
    "df['jogos_jogados'] = pd.to_numeric(df['jogos_jogados'].str.replace('.', ''), errors='coerce')\n",
    "df['ouro'] = pd.to_numeric(df['ouro'].str.replace('.', ''), errors='coerce')\n",
    "df['taxa_vitoria'] = pd.to_numeric(df['taxa_vitoria'].str.replace('%', ''), errors='coerce')\n",
    "df['taxa_escolha'] = pd.to_numeric(df['taxa_escolha'].str.replace('%', ''), errors='coerce')\n",
    "df['taxa_banimento'] = pd.to_numeric(df['taxa_banimento'].str.replace('%', ''), errors='coerce')"
   ]
  },
  {
   "cell_type": "code",
   "execution_count": 9,
   "id": "dbd9b343",
   "metadata": {},
   "outputs": [],
   "source": [
    "# Remover duplicados, não necessário nesse caso\n",
    "df = df.drop_duplicates()\n",
    "\n",
    "# preencher valores nulos com a mediana\n",
    "df = df.fillna(df.median(numeric_only=True))"
   ]
  },
  {
   "cell_type": "markdown",
   "id": "1daac209",
   "metadata": {},
   "source": [
    "# Análise de Limpeza"
   ]
  },
  {
   "cell_type": "code",
   "execution_count": 10,
   "id": "cb6fe876",
   "metadata": {},
   "outputs": [
    {
     "name": "stdout",
     "output_type": "stream",
     "text": [
      "Dataset após limpeza:\n",
      "           nome  jogos_jogados     ama  taxa_vitoria  taxa_escolha  \\\n",
      "0  Miss Fortune        18164.0  2.19:1         48.79         27.64   \n",
      "1           Lux        17346.0  2.37:1         48.58         26.40   \n",
      "2          Kayn        12893.0  1.82:1         46.89         19.62   \n",
      "3       Caitlyn        12526.0  1.97:1         47.28         19.06   \n",
      "4       Morgana        12418.0  2.50:1         49.65         18.90   \n",
      "\n",
      "   taxa_banimento      cs     ouro region  tier  \n",
      "0           13.87  154.79  12410.0     br  iron  \n",
      "1           38.62   91.24  10420.0     br  iron  \n",
      "2           17.10  156.88  11846.0     br  iron  \n",
      "3           37.02  160.68  11902.0     br  iron  \n",
      "4           32.35   66.49   9927.0     br  iron  \n",
      "Resumo estatístico após limpeza:\n",
      "       jogos_jogados  taxa_vitoria  taxa_escolha  taxa_banimento           cs  \\\n",
      "count    1712.000000   1712.000000   1712.000000     1712.000000  1712.000000   \n",
      "mean     5988.477220     49.341688      5.917640        5.158896   155.571565   \n",
      "std      7544.807708      6.063953      4.271441        8.199543    55.557403   \n",
      "min         1.000000      0.000000      0.250000        0.010000    11.840000   \n",
      "25%       821.750000     47.987500      2.820000        0.640000   145.197500   \n",
      "50%      3432.000000     49.975000      4.600000        1.780000   173.640000   \n",
      "75%      8163.750000     51.642500      8.042500        5.792500   191.850000   \n",
      "max     52102.000000     80.000000     27.640000       58.290000   242.520000   \n",
      "\n",
      "               ouro  \n",
      "count   1712.000000  \n",
      "mean   11541.338201  \n",
      "std     1469.797219  \n",
      "min     5676.000000  \n",
      "25%    10935.750000  \n",
      "50%    11926.000000  \n",
      "75%    12578.000000  \n",
      "max    14073.000000  \n"
     ]
    }
   ],
   "source": [
    "print(\"Dataset após limpeza:\")\n",
    "print(df.head())\n",
    "\n",
    "print(\"Resumo estatístico após limpeza:\")\n",
    "print(df.describe())"
   ]
  },
  {
   "cell_type": "code",
   "execution_count": 11,
   "id": "5ff3e9cf",
   "metadata": {},
   "outputs": [
    {
     "name": "stdout",
     "output_type": "stream",
     "text": [
      "Média da taxa de vitória por região/tier:\n",
      "region  tier       \n",
      "br      bronze         48.717135\n",
      "        challenger     46.822807\n",
      "        diamond        50.484737\n",
      "        emerald        50.444302\n",
      "        gold           50.032047\n",
      "        grandmaster    49.507076\n",
      "        iron           46.470058\n",
      "        master         51.405146\n",
      "        platinum       50.202849\n",
      "        silver         49.319240\n",
      "Name: taxa_vitoria, dtype: float64\n"
     ]
    }
   ],
   "source": [
    "print(\"Média da taxa de vitória por região/tier:\")\n",
    "print(df.groupby(['region','tier'])['taxa_vitoria'].mean())"
   ]
  },
  {
   "cell_type": "code",
   "execution_count": 12,
   "id": "c5fbc7d4",
   "metadata": {
    "vscode": {
     "languageId": "ruby"
    }
   },
   "outputs": [
    {
     "name": "stdout",
     "output_type": "stream",
     "text": [
      "tier          bronze  challenger  diamond  emerald   gold  grandmaster   iron  \\\n",
      "nome                                                                            \n",
      "Miss Fortune   51.47       58.33    51.01    51.44  51.79        45.16  48.79   \n",
      "Lux            51.31       51.43    51.42    51.42  51.54        51.79  48.58   \n",
      "Caitlyn        49.00       67.74    49.37    50.36  49.96        52.24  47.28   \n",
      "Morgana        51.96       52.94    49.69    52.77  52.71        55.07  49.65   \n",
      "Kayn           49.93       56.07    49.19    50.77  50.50        41.88  46.89   \n",
      "Ahri           48.67       50.00    50.34    49.78  49.99        51.15  46.56   \n",
      "\n",
      "tier          master  platinum  silver  \n",
      "nome                                    \n",
      "Miss Fortune   50.46     50.81   51.48  \n",
      "Lux            49.21     51.69   51.61  \n",
      "Caitlyn        50.51     50.06   49.35  \n",
      "Morgana        52.32     52.52   52.91  \n",
      "Kayn           50.28     50.08   49.92  \n",
      "Ahri           53.43     49.88   48.65  \n",
      "Tendência de vitória por elo para campeões populares:\n",
      "tier          bronze  challenger  diamond  emerald  gold  grandmaster  iron  \\\n",
      "nome                                                                          \n",
      "Miss Fortune     0.0        6.86    -7.32     0.43  0.35        -6.63  3.63   \n",
      "Lux              0.0        0.12    -0.01     0.00  0.12         0.25 -3.21   \n",
      "Caitlyn          0.0       18.74   -18.37     0.99 -0.40         2.28 -4.96   \n",
      "Morgana          0.0        0.98    -3.25     3.08 -0.06         2.36 -5.42   \n",
      "Kayn             0.0        6.14    -6.88     1.58 -0.27        -8.62  5.01   \n",
      "Ahri             0.0        1.33     0.34    -0.56  0.21         1.16 -4.59   \n",
      "\n",
      "tier          master  platinum  silver  \n",
      "nome                                    \n",
      "Miss Fortune    1.67      0.35    0.67  \n",
      "Lux             0.63      2.48   -0.08  \n",
      "Caitlyn         3.23     -0.45   -0.71  \n",
      "Morgana         2.67      0.20    0.39  \n",
      "Kayn            3.39     -0.20   -0.16  \n",
      "Ahri            6.87     -3.55   -1.23  \n"
     ]
    }
   ],
   "source": [
    "# Calculando a média da taxa de vitória por campeão e elo\n",
    "performance_por_elo = df.groupby(['nome', 'tier'])['taxa_vitoria'].mean().unstack()\n",
    "\n",
    "# Selecionando alguns campeões populares para visualização\n",
    "campeoes_populares = ['Miss Fortune', 'Lux', 'Caitlyn', 'Morgana', 'Kayn', 'Ahri']\n",
    "performance_populares = performance_por_elo.loc[campeoes_populares]\n",
    "\n",
    "print(performance_populares)\n",
    "\n",
    "# Calculando a tendência de vitória por elo para cada campeão popular\n",
    "tendencia_populares = performance_populares.apply(lambda x: x.diff().fillna(0), axis=1)\n",
    "\n",
    "print(\"Tendência de vitória por elo para campeões populares:\")\n",
    "print(tendencia_populares)"
   ]
  },
  {
   "cell_type": "code",
   "execution_count": 13,
   "id": "082f98da",
   "metadata": {},
   "outputs": [
    {
     "name": "stdout",
     "output_type": "stream",
     "text": [
      "Formato do dataset após remoção de outliers: (1607, 10)\n",
      "Análise por elo após remoção de outliers:\n",
      "            taxa_vitoria           taxa_escolha           taxa_banimento  \\\n",
      "                    mean       std         mean       std           mean   \n",
      "tier                                                                       \n",
      "bronze         48.627531  2.456890     5.171173  3.597012       3.650679   \n",
      "challenger     50.302071  7.258369     6.810571  3.941232       4.068000   \n",
      "diamond        50.484157  1.930462     5.529277  3.363376       4.679277   \n",
      "emerald        50.776084  1.794200     5.588675  3.521923       4.563494   \n",
      "gold           50.032317  2.083944     5.462561  3.657719       3.935915   \n",
      "grandmaster    49.264870  5.734719     5.633571  3.689168       3.769286   \n",
      "iron           46.375370  2.498030     5.135864  3.802721       3.630679   \n",
      "master         51.384727  2.240956     5.485758  3.226263       4.458485   \n",
      "platinum       50.520848  1.965824     5.598545  3.721481       4.155212   \n",
      "silver         49.267055  2.217568     5.339755  3.637381       3.733436   \n",
      "\n",
      "                               ouro               \n",
      "                  std          mean          std  \n",
      "tier                                              \n",
      "bronze       5.244705  11721.969136  1319.437384  \n",
      "challenger   5.932776  11140.828571  1613.391013  \n",
      "diamond      6.180205  11530.686747  1436.209704  \n",
      "emerald      6.245414  11753.909639  1483.049107  \n",
      "gold         5.502603  11932.908537  1440.223005  \n",
      "grandmaster  5.002800  10996.253247  1492.251637  \n",
      "iron         5.213878  11049.203704  1130.880145  \n",
      "master       5.907431  11326.296970  1434.071686  \n",
      "platinum     5.675746  11885.739394  1468.209075  \n",
      "silver       5.304204  11913.030675  1396.511683  \n"
     ]
    }
   ],
   "source": [
    "import numpy as np\n",
    "\n",
    "# Remover outliers\n",
    "df_sem_outliers = df[(np.abs(df['taxa_vitoria'] - df['taxa_vitoria'].mean()) <= (3 * df['taxa_vitoria'].std())) &\n",
    "                         (np.abs(df['taxa_escolha'] - df['taxa_escolha'].mean()) <= (3 * df['taxa_escolha'].std())) &\n",
    "                         (np.abs(df['taxa_banimento'] - df['taxa_banimento'].mean()) <= (3 * df['taxa_banimento'].std())) &\n",
    "                         (np.abs(df['ouro'] - df['ouro'].mean()) <= (3 * df['ouro'].std()))]\n",
    "\n",
    "print(\"Formato do dataset após remoção de outliers:\", df_sem_outliers.shape)\n",
    "\n",
    "# Análise por elo (tier) após remoção de outliers\n",
    "analise_por_elo = df_sem_outliers.groupby('tier').agg({\n",
    "    'taxa_vitoria': ['mean', 'std'],\n",
    "    'taxa_escolha': ['mean', 'std'],\n",
    "    'taxa_banimento': ['mean', 'std'],\n",
    "    'ouro': ['mean', 'std']\n",
    "})\n",
    "\n",
    "print(\"Análise por elo após remoção de outliers:\")\n",
    "print(analise_por_elo)"
   ]
  },
  {
   "cell_type": "code",
   "execution_count": null,
   "id": "18d9f218",
   "metadata": {},
   "outputs": [
    {
     "name": "stdout",
     "output_type": "stream",
     "text": [
      "Top 10 campeões com maior taxa de vitória após remoção de outliers:\n",
      "              nome  taxa_vitoria\n",
      "1703           Vex         66.67\n",
      "1618         Quinn         66.67\n",
      "1509  Twisted Fate         66.04\n",
      "1639         Braum         64.71\n",
      "1673          Olaf         64.29\n",
      "1674      Bel'Veth         64.29\n",
      "1601       Kha'Zix         61.40\n",
      "1667       Skarner         61.11\n",
      "1657         Brand         60.87\n",
      "1443       Camille         60.47\n",
      "Melhores campeões por elo após remoção de outliers:\n",
      "             tier          nome  taxa_vitoria\n",
      "286        bronze        Singed         53.77\n",
      "1703   challenger           Vex         66.67\n",
      "1167      diamond        Kennen         55.42\n",
      "994       emerald        Rammus         55.39\n",
      "576          gold         Briar         54.79\n",
      "1509  grandmaster  Twisted Fate         66.04\n",
      "120          iron        Singed         52.27\n",
      "1297       master        Zilean         57.06\n",
      "813      platinum       Kog'Maw         54.99\n",
      "403        silver         Briar         54.54\n"
     ]
    }
   ],
   "source": [
    "# Analisar campões com maior taxa de vitória\n",
    "df_top_campeoes = df_sem_outliers.sort_values(by='taxa_vitoria', ascending=False)\n",
    "\n",
    "print(\"Top 10 campeões com maior taxa de vitória após remoção de outliers:\")\n",
    "print(df_top_campeoes[['nome', 'taxa_vitoria']].head(10))\n",
    "\n",
    "# Analise de campeões por elo\n",
    "melhores_por_elo = df_sem_outliers.loc[df_sem_outliers.groupby('tier')['taxa_vitoria'].idxmax()]\n",
    "\n",
    "print(\"Melhores campeões por elo após remoção de outliers:\")\n",
    "print(melhores_por_elo[['tier', 'nome', 'taxa_vitoria']])"
   ]
  },
  {
   "cell_type": "markdown",
   "id": "4b767f16",
   "metadata": {},
   "source": [
    "## Outras preocupações\n",
    "\n",
    "Porém, taxa de vitória em si, não quer dizer muito, pois ele pode ter sido pouco jogado, então precisa ser correlacionado com a taxa de escolha."
   ]
  },
  {
   "cell_type": "code",
   "execution_count": 23,
   "id": "a1614697",
   "metadata": {},
   "outputs": [
    {
     "name": "stdout",
     "output_type": "stream",
     "text": [
      "Relação entre taxa de vitória e média de partidas jogadas por campeão:\n",
      "                nome  taxa_vitoria  jogos_jogados  relacao_vitorias_partidas\n",
      "1689       Seraphine         80.00           10.0                   0.014175\n",
      "1701         Hecarim         80.00            5.0                   0.014175\n",
      "1537             Vex         80.00            5.0                   0.014175\n",
      "1702           Urgot         75.00            4.0                   0.013289\n",
      "1539            Fizz         75.00            4.0                   0.013289\n",
      "1538          Illaoi         75.00            4.0                   0.013289\n",
      "1535  Nunu & Willump         71.43            7.0                   0.012657\n",
      "1688        Malphite         70.00           10.0                   0.012403\n",
      "1644         Caitlyn         67.74           31.0                   0.012003\n",
      "1703             Vex         66.67            3.0                   0.011813\n",
      "Melhores campeões por elo considerando relação entre taxa de vitória e média de partidas jogadas:\n",
      "             tier       nome  relacao_vitorias_partidas\n",
      "286        bronze     Singed                   0.009528\n",
      "1689   challenger  Seraphine                   0.014175\n",
      "1167      diamond     Kennen                   0.009820\n",
      "994       emerald     Rammus                   0.009815\n",
      "576          gold      Briar                   0.009708\n",
      "1537  grandmaster        Vex                   0.014175\n",
      "120          iron     Singed                   0.009262\n",
      "1297       master     Zilean                   0.010111\n",
      "813      platinum    Kog'Maw                   0.009744\n",
      "403        silver      Briar                   0.009664\n"
     ]
    }
   ],
   "source": [
    "media_de_partidas_por_campeao = df_sem_outliers['jogos_jogados'].mean()\n",
    "df['relacao_vitorias_partidas'] = df['taxa_vitoria'] / media_de_partidas_por_campeao\n",
    "\n",
    "# ordemar por essa relação\n",
    "df = df.sort_values(by='relacao_vitorias_partidas', ascending=False)\n",
    "\n",
    "print(\"Relação entre taxa de vitória e média de partidas jogadas por campeão:\")\n",
    "print(df[['nome', 'taxa_vitoria', 'jogos_jogados', 'relacao_vitorias_partidas']].head(10))\n",
    "\n",
    "# melhores campeões por elo\n",
    "melhores_por_elo = df.loc[df.groupby('tier')['relacao_vitorias_partidas'].idxmax()]\n",
    "\n",
    "print(\"Melhores campeões por elo considerando relação entre taxa de vitória e média de partidas jogadas:\")\n",
    "print(melhores_por_elo[['tier', 'nome', 'relacao_vitorias_partidas']])"
   ]
  }
 ],
 "metadata": {
  "kernelspec": {
   "display_name": "lol-campeoes-sua-loja",
   "language": "python",
   "name": "python3"
  },
  "language_info": {
   "codemirror_mode": {
    "name": "ipython",
    "version": 3
   },
   "file_extension": ".py",
   "mimetype": "text/x-python",
   "name": "python",
   "nbconvert_exporter": "python",
   "pygments_lexer": "ipython3",
   "version": "3.13.5"
  }
 },
 "nbformat": 4,
 "nbformat_minor": 5
}
